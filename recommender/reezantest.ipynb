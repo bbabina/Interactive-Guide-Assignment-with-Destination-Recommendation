{
 "cells": [
  {
   "cell_type": "code",
   "execution_count": 1,
   "id": "7fcbeb57",
   "metadata": {},
   "outputs": [],
   "source": [
    "from django.shortcuts import render\n",
    "from django.contrib.auth.models import User\n",
    "from ratinghome.models import Rateinfo\n",
    "import pandas as pd\n",
    "import seaborn as sns\n",
    "from math import sqrt\n",
    "import numpy as np\n",
    "import matplotlib.pyplot as plt\n",
    "from scipy import spatial\n",
    "import django\n",
    "import os\n",
    "from registration.models import Profile, Preferences\n",
    "os.environ.setdefault('DJANGO_SETTINGS_MODULE', 'ourproject.settings')\n",
    "os.environ[\"DJANGO_ALLOW_ASYNC_UNSAFE\"] = \"true\"\n",
    "django.setup()\n"
   ]
  },
  {
   "cell_type": "code",
   "execution_count": 10,
   "id": "a0e6a242",
   "metadata": {},
   "outputs": [],
   "source": [
    "user=User.objects.get(username='testuser1')\n"
   ]
  },
  {
   "cell_type": "code",
   "execution_count": 11,
   "id": "31f26f96",
   "metadata": {},
   "outputs": [
    {
     "data": {
      "text/plain": [
       "<User: testuser1>"
      ]
     },
     "execution_count": 11,
     "metadata": {},
     "output_type": "execute_result"
    }
   ],
   "source": [
    "user\n"
   ]
  },
  {
   "cell_type": "code",
   "execution_count": 12,
   "id": "750c9ad1",
   "metadata": {},
   "outputs": [
    {
     "data": {
      "text/plain": [
       "'Amanshrestha147181@gmail.com'"
      ]
     },
     "execution_count": 12,
     "metadata": {},
     "output_type": "execute_result"
    }
   ],
   "source": [
    "user.email"
   ]
  },
  {
   "cell_type": "code",
   "execution_count": 13,
   "id": "24458ef5",
   "metadata": {},
   "outputs": [
    {
     "data": {
      "text/plain": [
       "'testuser1'"
      ]
     },
     "execution_count": 13,
     "metadata": {},
     "output_type": "execute_result"
    }
   ],
   "source": [
    "user.username"
   ]
  },
  {
   "cell_type": "code",
   "execution_count": null,
   "id": "137bd2e7",
   "metadata": {},
   "outputs": [],
   "source": []
  }
 ],
 "metadata": {
  "kernelspec": {
   "display_name": "Python 3",
   "language": "python",
   "name": "python3"
  },
  "language_info": {
   "codemirror_mode": {
    "name": "ipython",
    "version": 3
   },
   "file_extension": ".py",
   "mimetype": "text/x-python",
   "name": "python",
   "nbconvert_exporter": "python",
   "pygments_lexer": "ipython3",
   "version": "3.10.4 (tags/v3.10.4:9d38120, Mar 23 2022, 23:13:41) [MSC v.1929 64 bit (AMD64)]"
  },
  "vscode": {
   "interpreter": {
    "hash": "a812c9cdb126544c67567be1a03fc3e8b006c64d2578f6b9bbcf917f04f019f5"
   }
  }
 },
 "nbformat": 4,
 "nbformat_minor": 5
}
